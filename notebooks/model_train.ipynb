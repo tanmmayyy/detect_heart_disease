{
 "cells": [
  {
   "cell_type": "code",
   "execution_count": 4,
   "id": "620c5d56",
   "metadata": {},
   "outputs": [],
   "source": [
    "import pandas as pd\n",
    "import numpy as np\n"
   ]
  },
  {
   "cell_type": "code",
   "execution_count": 2,
   "id": "8b35160e",
   "metadata": {},
   "outputs": [],
   "source": [
    "df = pd.read_csv('../data/dataset.csv')  "
   ]
  },
  {
   "cell_type": "code",
   "execution_count": 3,
   "id": "edb80e9b",
   "metadata": {},
   "outputs": [
    {
     "data": {
      "text/plain": [
       "(1190, 12)"
      ]
     },
     "execution_count": 3,
     "metadata": {},
     "output_type": "execute_result"
    }
   ],
   "source": [
    "df.shape"
   ]
  },
  {
   "cell_type": "code",
   "execution_count": null,
   "id": "d28d11b9",
   "metadata": {},
   "outputs": [],
   "source": []
  }
 ],
 "metadata": {
  "kernelspec": {
   "display_name": "base",
   "language": "python",
   "name": "python3"
  },
  "language_info": {
   "codemirror_mode": {
    "name": "ipython",
    "version": 3
   },
   "file_extension": ".py",
   "mimetype": "text/x-python",
   "name": "python",
   "nbconvert_exporter": "python",
   "pygments_lexer": "ipython3",
   "version": "3.12.7"
  }
 },
 "nbformat": 4,
 "nbformat_minor": 5
}
